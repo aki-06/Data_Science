{
 "cells": [
  {
   "cell_type": "markdown",
   "metadata": {},
   "source": [
    "# ヒストグラム"
   ]
  },
  {
   "cell_type": "code",
   "execution_count": 1,
   "metadata": {
    "collapsed": true
   },
   "outputs": [],
   "source": [
    "from numpy.random import randn\n",
    "import matplotlib.pyplot as plt\n",
    "import seaborn as sns"
   ]
  },
  {
   "cell_type": "code",
   "execution_count": 2,
   "metadata": {
    "collapsed": true
   },
   "outputs": [],
   "source": [
    "%matplotlib inline"
   ]
  },
  {
   "cell_type": "code",
   "execution_count": 3,
   "metadata": {
    "collapsed": true
   },
   "outputs": [],
   "source": [
    "dataset1 = randn(100)"
   ]
  },
  {
   "cell_type": "code",
   "execution_count": 4,
   "metadata": {},
   "outputs": [
    {
     "data": {
      "text/plain": [
       "(array([  4.,   3.,  11.,  12.,  20.,  21.,  15.,   7.,   5.,   2.]),\n",
       " array([-2.47029321, -1.9357435 , -1.40119378, -0.86664407, -0.33209436,\n",
       "         0.20245536,  0.73700507,  1.27155478,  1.80610449,  2.34065421,\n",
       "         2.87520392]),\n",
       " <a list of 10 Patch objects>)"
      ]
     },
     "execution_count": 4,
     "metadata": {},
     "output_type": "execute_result"
    },
    {
     "data": {
      "image/png": "[encoded data removed]",
      "text/plain": [
       "<matplotlib.figure.Figure at 0x1a10cb8668>"
      ]
     },
     "metadata": {},
     "output_type": "display_data"
    }
   ],
   "source": [
    "plt.hist(dataset1)"
   ]
  },
  {
   "cell_type": "code",
   "execution_count": 5,
   "metadata": {
    "collapsed": true
   },
   "outputs": [],
   "source": [
    "dataset2 = randn(80)"
   ]
  },
  {
   "cell_type": "code",
   "execution_count": 6,
   "metadata": {},
   "outputs": [
    {
     "data": {
      "text/plain": [
       "(array([  3.,   2.,   7.,  12.,  10.,  24.,  12.,   5.,   4.,   1.]),\n",
       " array([-2.72859612, -2.19821119, -1.66782626, -1.13744133, -0.60705639,\n",
       "        -0.07667146,  0.45371347,  0.98409841,  1.51448334,  2.04486827,\n",
       "         2.5752532 ]),\n",
       " <a list of 10 Patch objects>)"
      ]
     },
     "execution_count": 6,
     "metadata": {},
     "output_type": "execute_result"
    },
    {
     "data": {
      "image/png": "[encoded data removed]",
      "text/plain": [
       "<matplotlib.figure.Figure at 0x1a15c91898>"
      ]
     },
     "metadata": {},
     "output_type": "display_data"
    }
   ],
   "source": [
    "plt.hist(dataset2, color='indianred')"
   ]
  },
  {
   "cell_type": "code",
   "execution_count": 7,
   "metadata": {},
   "outputs": [
    {
     "data": {
      "text/plain": [
       "(array([ 0.07482934,  0.056122  ,  0.20578067,  0.22448801,  0.37414668,\n",
       "         0.39285401,  0.28061001,  0.13095134,  0.09353667,  0.03741467]),\n",
       " array([-2.47029321, -1.9357435 , -1.40119378, -0.86664407, -0.33209436,\n",
       "         0.20245536,  0.73700507,  1.27155478,  1.80610449,  2.34065421,\n",
       "         2.87520392]),\n",
       " <a list of 10 Patch objects>)"
      ]
     },
     "execution_count": 7,
     "metadata": {},
     "output_type": "execute_result"
    },
    {
     "data": {
      "image/png": "[encoded data removed]",
      "text/plain": [
       "<matplotlib.figure.Figure at 0x1a1906e6d8>"
      ]
     },
     "metadata": {},
     "output_type": "display_data"
    }
   ],
   "source": [
    "plt.hist(dataset1, normed=True)"
   ]
  },
  {
   "cell_type": "code",
   "execution_count": 9,
   "metadata": {},
   "outputs": [
    {
     "data": {
      "text/plain": [
       "(array([ 0.04713558,  0.09427115,  0.09427115,  0.        ,  0.14140673,\n",
       "         0.18854231,  0.18854231,  0.37708462,  0.14140673,  0.32994904,\n",
       "         0.75416924,  0.37708462,  0.28281346,  0.28281346,  0.04713558,\n",
       "         0.18854231,  0.09427115,  0.09427115,  0.        ,  0.04713558]),\n",
       " array([-2.72859612, -2.46340366, -2.19821119, -1.93301873, -1.66782626,\n",
       "        -1.40263379, -1.13744133, -0.87224886, -0.60705639, -0.34186393,\n",
       "        -0.07667146,  0.18852101,  0.45371347,  0.71890594,  0.98409841,\n",
       "         1.24929087,  1.51448334,  1.77967581,  2.04486827,  2.31006074,\n",
       "         2.5752532 ]),\n",
       " <a list of 20 Patch objects>)"
      ]
     },
     "execution_count": 9,
     "metadata": {},
     "output_type": "execute_result"
    },
    {
     "data": {
      "image/png": "[encoded data removed]",
      "text/plain": [
       "<matplotlib.figure.Figure at 0x1a19764ac8>"
      ]
     },
     "metadata": {},
     "output_type": "display_data"
    }
   ],
   "source": [
    "plt.hist(dataset1, normed=True, alpha=0.5, bins=20)\n",
    "plt.hist(dataset2, normed=True, alpha=0.5, bins=20, color='indianred')"
   ]
  },
  {
   "cell_type": "code",
   "execution_count": null,
   "metadata": {
    "collapsed": true
   },
   "outputs": [],
   "source": [
    "data1 = "
   ]
  }
 ],
 "metadata": {
  "kernelspec": {
   "display_name": "Python 3",
   "language": "python",
   "name": "python3"
  },
  "language_info": {
   "codemirror_mode": {
    "name": "ipython",
    "version": 3
   },
   "file_extension": ".py",
   "mimetype": "text/x-python",
   "name": "python",
   "nbconvert_exporter": "python",
   "pygments_lexer": "ipython3",
   "version": "3.6.3"
  }
 },
 "nbformat": 4,
 "nbformat_minor": 2
}
